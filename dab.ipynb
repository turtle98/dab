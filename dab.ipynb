{
  "cells": [
    {
      "cell_type": "markdown",
      "metadata": {
        "id": "view-in-github",
        "colab_type": "text"
      },
      "source": [
        "<a href=\"https://colab.research.google.com/github/turtle98/dab/blob/main/dab.ipynb\" target=\"_parent\"><img src=\"https://colab.research.google.com/assets/colab-badge.svg\" alt=\"Open In Colab\"/></a>"
      ]
    },
    {
      "cell_type": "code",
      "execution_count": 1,
      "metadata": {
        "id": "_uq0qKMFcXze",
        "colab": {
          "base_uri": "https://localhost:8080/"
        },
        "outputId": "6d70b6f0-b77c-493d-8665-fecbff59251a"
      },
      "outputs": [
        {
          "output_type": "stream",
          "name": "stdout",
          "text": [
            "Mounted at /content/gdrive/\n"
          ]
        }
      ],
      "source": [
        "from google.colab import drive\n",
        "drive.mount('/content/gdrive/', force_remount=True)"
      ]
    },
    {
      "cell_type": "code",
      "source": [
        "########################################################################\n",
        "#* 레시피 데이터 불러오기\n",
        "########################################################################3\n",
        "\n",
        "df = pd.read_excel('/content/gdrive/MyDrive/dab_project/dab/data/recipe_data/recipe1.xlsx')"
      ],
      "metadata": {
        "id": "9ErvH9S853wL"
      },
      "execution_count": 5,
      "outputs": []
    },
    {
      "cell_type": "code",
      "source": [
        "import pandas as pd"
      ],
      "metadata": {
        "id": "BBIJNVHCDLAv"
      },
      "execution_count": 2,
      "outputs": []
    },
    {
      "cell_type": "code",
      "source": [
        "#!pip install 'git+https://github.com/SKTBrain/KoBERT.git#egg=kobert_tokenizer&subdirectory=kobert_hf'\n",
        "!pip install ko-sentence-transformers\n",
        "#!pip install transformers\n",
        "#!pip install sentencepiece\n",
        "import torch\n",
        "import pandas as pd\n",
        "!pip install thefuzz\n",
        "import thefuzz\n",
        "from thefuzz import process\n",
        "from thefuzz import fuzz\n",
        "\n",
        "#import transformers\n",
        "#from kobert_tokenizer import KoBERTTokenizer\n",
        "#from transformers import BertModel"
      ],
      "metadata": {
        "colab": {
          "base_uri": "https://localhost:8080/"
        },
        "id": "mAdvX-m_cVQW",
        "outputId": "a0ce0649-07f3-431a-8f17-1d139ca49d38"
      },
      "execution_count": 9,
      "outputs": [
        {
          "output_type": "stream",
          "name": "stdout",
          "text": [
            "Requirement already satisfied: ko-sentence-transformers in /usr/local/lib/python3.10/dist-packages (0.3)\n",
            "Requirement already satisfied: sentence-transformers in /usr/local/lib/python3.10/dist-packages (from ko-sentence-transformers) (2.2.2)\n",
            "Requirement already satisfied: transformers<5.0.0,>=4.6.0 in /usr/local/lib/python3.10/dist-packages (from sentence-transformers->ko-sentence-transformers) (4.31.0)\n",
            "Requirement already satisfied: tqdm in /usr/local/lib/python3.10/dist-packages (from sentence-transformers->ko-sentence-transformers) (4.65.0)\n",
            "Requirement already satisfied: torch>=1.6.0 in /usr/local/lib/python3.10/dist-packages (from sentence-transformers->ko-sentence-transformers) (2.0.1+cu118)\n",
            "Requirement already satisfied: torchvision in /usr/local/lib/python3.10/dist-packages (from sentence-transformers->ko-sentence-transformers) (0.15.2+cu118)\n",
            "Requirement already satisfied: numpy in /usr/local/lib/python3.10/dist-packages (from sentence-transformers->ko-sentence-transformers) (1.23.5)\n",
            "Requirement already satisfied: scikit-learn in /usr/local/lib/python3.10/dist-packages (from sentence-transformers->ko-sentence-transformers) (1.2.2)\n",
            "Requirement already satisfied: scipy in /usr/local/lib/python3.10/dist-packages (from sentence-transformers->ko-sentence-transformers) (1.10.1)\n",
            "Requirement already satisfied: nltk in /usr/local/lib/python3.10/dist-packages (from sentence-transformers->ko-sentence-transformers) (3.8.1)\n",
            "Requirement already satisfied: sentencepiece in /usr/local/lib/python3.10/dist-packages (from sentence-transformers->ko-sentence-transformers) (0.1.99)\n",
            "Requirement already satisfied: huggingface-hub>=0.4.0 in /usr/local/lib/python3.10/dist-packages (from sentence-transformers->ko-sentence-transformers) (0.16.4)\n",
            "Requirement already satisfied: filelock in /usr/local/lib/python3.10/dist-packages (from huggingface-hub>=0.4.0->sentence-transformers->ko-sentence-transformers) (3.12.2)\n",
            "Requirement already satisfied: fsspec in /usr/local/lib/python3.10/dist-packages (from huggingface-hub>=0.4.0->sentence-transformers->ko-sentence-transformers) (2023.6.0)\n",
            "Requirement already satisfied: requests in /usr/local/lib/python3.10/dist-packages (from huggingface-hub>=0.4.0->sentence-transformers->ko-sentence-transformers) (2.31.0)\n",
            "Requirement already satisfied: pyyaml>=5.1 in /usr/local/lib/python3.10/dist-packages (from huggingface-hub>=0.4.0->sentence-transformers->ko-sentence-transformers) (6.0.1)\n",
            "Requirement already satisfied: typing-extensions>=3.7.4.3 in /usr/local/lib/python3.10/dist-packages (from huggingface-hub>=0.4.0->sentence-transformers->ko-sentence-transformers) (4.7.1)\n",
            "Requirement already satisfied: packaging>=20.9 in /usr/local/lib/python3.10/dist-packages (from huggingface-hub>=0.4.0->sentence-transformers->ko-sentence-transformers) (23.1)\n",
            "Requirement already satisfied: sympy in /usr/local/lib/python3.10/dist-packages (from torch>=1.6.0->sentence-transformers->ko-sentence-transformers) (1.11.1)\n",
            "Requirement already satisfied: networkx in /usr/local/lib/python3.10/dist-packages (from torch>=1.6.0->sentence-transformers->ko-sentence-transformers) (3.1)\n",
            "Requirement already satisfied: jinja2 in /usr/local/lib/python3.10/dist-packages (from torch>=1.6.0->sentence-transformers->ko-sentence-transformers) (3.1.2)\n",
            "Requirement already satisfied: triton==2.0.0 in /usr/local/lib/python3.10/dist-packages (from torch>=1.6.0->sentence-transformers->ko-sentence-transformers) (2.0.0)\n",
            "Requirement already satisfied: cmake in /usr/local/lib/python3.10/dist-packages (from triton==2.0.0->torch>=1.6.0->sentence-transformers->ko-sentence-transformers) (3.25.2)\n",
            "Requirement already satisfied: lit in /usr/local/lib/python3.10/dist-packages (from triton==2.0.0->torch>=1.6.0->sentence-transformers->ko-sentence-transformers) (16.0.6)\n",
            "Requirement already satisfied: regex!=2019.12.17 in /usr/local/lib/python3.10/dist-packages (from transformers<5.0.0,>=4.6.0->sentence-transformers->ko-sentence-transformers) (2022.10.31)\n",
            "Requirement already satisfied: tokenizers!=0.11.3,<0.14,>=0.11.1 in /usr/local/lib/python3.10/dist-packages (from transformers<5.0.0,>=4.6.0->sentence-transformers->ko-sentence-transformers) (0.13.3)\n",
            "Requirement already satisfied: safetensors>=0.3.1 in /usr/local/lib/python3.10/dist-packages (from transformers<5.0.0,>=4.6.0->sentence-transformers->ko-sentence-transformers) (0.3.2)\n",
            "Requirement already satisfied: click in /usr/local/lib/python3.10/dist-packages (from nltk->sentence-transformers->ko-sentence-transformers) (8.1.6)\n",
            "Requirement already satisfied: joblib in /usr/local/lib/python3.10/dist-packages (from nltk->sentence-transformers->ko-sentence-transformers) (1.3.1)\n",
            "Requirement already satisfied: threadpoolctl>=2.0.0 in /usr/local/lib/python3.10/dist-packages (from scikit-learn->sentence-transformers->ko-sentence-transformers) (3.2.0)\n",
            "Requirement already satisfied: pillow!=8.3.*,>=5.3.0 in /usr/local/lib/python3.10/dist-packages (from torchvision->sentence-transformers->ko-sentence-transformers) (9.4.0)\n",
            "Requirement already satisfied: MarkupSafe>=2.0 in /usr/local/lib/python3.10/dist-packages (from jinja2->torch>=1.6.0->sentence-transformers->ko-sentence-transformers) (2.1.3)\n",
            "Requirement already satisfied: charset-normalizer<4,>=2 in /usr/local/lib/python3.10/dist-packages (from requests->huggingface-hub>=0.4.0->sentence-transformers->ko-sentence-transformers) (3.2.0)\n",
            "Requirement already satisfied: idna<4,>=2.5 in /usr/local/lib/python3.10/dist-packages (from requests->huggingface-hub>=0.4.0->sentence-transformers->ko-sentence-transformers) (3.4)\n",
            "Requirement already satisfied: urllib3<3,>=1.21.1 in /usr/local/lib/python3.10/dist-packages (from requests->huggingface-hub>=0.4.0->sentence-transformers->ko-sentence-transformers) (1.26.16)\n",
            "Requirement already satisfied: certifi>=2017.4.17 in /usr/local/lib/python3.10/dist-packages (from requests->huggingface-hub>=0.4.0->sentence-transformers->ko-sentence-transformers) (2023.7.22)\n",
            "Requirement already satisfied: mpmath>=0.19 in /usr/local/lib/python3.10/dist-packages (from sympy->torch>=1.6.0->sentence-transformers->ko-sentence-transformers) (1.3.0)\n",
            "Requirement already satisfied: thefuzz in /usr/local/lib/python3.10/dist-packages (0.19.0)\n"
          ]
        },
        {
          "output_type": "stream",
          "name": "stderr",
          "text": [
            "/usr/local/lib/python3.10/dist-packages/thefuzz/fuzz.py:11: UserWarning: Using slow pure-python SequenceMatcher. Install python-Levenshtein to remove this warning\n",
            "  warnings.warn('Using slow pure-python SequenceMatcher. Install python-Levenshtein to remove this warning')\n"
          ]
        }
      ]
    },
    {
      "cell_type": "code",
      "source": [
        "!pip install roboflow\n",
        "from roboflow import Roboflow"
      ],
      "metadata": {
        "id": "sKHTRb1OYHm3",
        "colab": {
          "base_uri": "https://localhost:8080/",
          "height": 1000
        },
        "outputId": "9192722d-2c1e-4014-cd2d-bc67984455c3"
      },
      "execution_count": null,
      "outputs": [
        {
          "output_type": "stream",
          "name": "stdout",
          "text": [
            "Collecting roboflow\n",
            "  Downloading roboflow-1.1.2-py3-none-any.whl (57 kB)\n",
            "\u001b[2K     \u001b[90m━━━━━━━━━━━━━━━━━━━━━━━━━━━━━━━━━━━━━━━━\u001b[0m \u001b[32m57.4/57.4 kB\u001b[0m \u001b[31m1.5 MB/s\u001b[0m eta \u001b[36m0:00:00\u001b[0m\n",
            "\u001b[?25hCollecting certifi==2022.12.7 (from roboflow)\n",
            "  Downloading certifi-2022.12.7-py3-none-any.whl (155 kB)\n",
            "\u001b[2K     \u001b[90m━━━━━━━━━━━━━━━━━━━━━━━━━━━━━━━━━━━━━━━\u001b[0m \u001b[32m155.3/155.3 kB\u001b[0m \u001b[31m5.9 MB/s\u001b[0m eta \u001b[36m0:00:00\u001b[0m\n",
            "\u001b[?25hRequirement already satisfied: chardet==4.0.0 in /usr/local/lib/python3.10/dist-packages (from roboflow) (4.0.0)\n",
            "Collecting cycler==0.10.0 (from roboflow)\n",
            "  Downloading cycler-0.10.0-py2.py3-none-any.whl (6.5 kB)\n",
            "Collecting idna==2.10 (from roboflow)\n",
            "  Downloading idna-2.10-py2.py3-none-any.whl (58 kB)\n",
            "\u001b[2K     \u001b[90m━━━━━━━━━━━━━━━━━━━━━━━━━━━━━━━━━━━━━━━━\u001b[0m \u001b[32m58.8/58.8 kB\u001b[0m \u001b[31m6.6 MB/s\u001b[0m eta \u001b[36m0:00:00\u001b[0m\n",
            "\u001b[?25hRequirement already satisfied: kiwisolver>=1.3.1 in /usr/local/lib/python3.10/dist-packages (from roboflow) (1.4.4)\n",
            "Requirement already satisfied: matplotlib in /usr/local/lib/python3.10/dist-packages (from roboflow) (3.7.1)\n",
            "Requirement already satisfied: numpy>=1.18.5 in /usr/local/lib/python3.10/dist-packages (from roboflow) (1.22.4)\n",
            "Requirement already satisfied: opencv-python>=4.1.2 in /usr/local/lib/python3.10/dist-packages (from roboflow) (4.7.0.72)\n",
            "Requirement already satisfied: Pillow>=7.1.2 in /usr/local/lib/python3.10/dist-packages (from roboflow) (9.4.0)\n",
            "Collecting pyparsing==2.4.7 (from roboflow)\n",
            "  Downloading pyparsing-2.4.7-py2.py3-none-any.whl (67 kB)\n",
            "\u001b[2K     \u001b[90m━━━━━━━━━━━━━━━━━━━━━━━━━━━━━━━━━━━━━━━━\u001b[0m \u001b[32m67.8/67.8 kB\u001b[0m \u001b[31m7.7 MB/s\u001b[0m eta \u001b[36m0:00:00\u001b[0m\n",
            "\u001b[?25hRequirement already satisfied: python-dateutil in /usr/local/lib/python3.10/dist-packages (from roboflow) (2.8.2)\n",
            "Collecting python-dotenv (from roboflow)\n",
            "  Downloading python_dotenv-1.0.0-py3-none-any.whl (19 kB)\n",
            "Requirement already satisfied: requests in /usr/local/lib/python3.10/dist-packages (from roboflow) (2.27.1)\n",
            "Requirement already satisfied: six in /usr/local/lib/python3.10/dist-packages (from roboflow) (1.16.0)\n",
            "Collecting supervision (from roboflow)\n",
            "  Downloading supervision-0.12.0-py3-none-any.whl (48 kB)\n",
            "\u001b[2K     \u001b[90m━━━━━━━━━━━━━━━━━━━━━━━━━━━━━━━━━━━━━━━━\u001b[0m \u001b[32m48.5/48.5 kB\u001b[0m \u001b[31m5.4 MB/s\u001b[0m eta \u001b[36m0:00:00\u001b[0m\n",
            "\u001b[?25hRequirement already satisfied: urllib3>=1.26.6 in /usr/local/lib/python3.10/dist-packages (from roboflow) (1.26.16)\n",
            "Collecting wget (from roboflow)\n",
            "  Downloading wget-3.2.zip (10 kB)\n",
            "  Preparing metadata (setup.py) ... \u001b[?25l\u001b[?25hdone\n",
            "Requirement already satisfied: tqdm>=4.41.0 in /usr/local/lib/python3.10/dist-packages (from roboflow) (4.65.0)\n",
            "Requirement already satisfied: PyYAML>=5.3.1 in /usr/local/lib/python3.10/dist-packages (from roboflow) (6.0.1)\n",
            "Collecting requests-toolbelt (from roboflow)\n",
            "  Downloading requests_toolbelt-1.0.0-py2.py3-none-any.whl (54 kB)\n",
            "\u001b[2K     \u001b[90m━━━━━━━━━━━━━━━━━━━━━━━━━━━━━━━━━━━━━━━━\u001b[0m \u001b[32m54.5/54.5 kB\u001b[0m \u001b[31m6.1 MB/s\u001b[0m eta \u001b[36m0:00:00\u001b[0m\n",
            "\u001b[?25hRequirement already satisfied: contourpy>=1.0.1 in /usr/local/lib/python3.10/dist-packages (from matplotlib->roboflow) (1.1.0)\n",
            "Requirement already satisfied: fonttools>=4.22.0 in /usr/local/lib/python3.10/dist-packages (from matplotlib->roboflow) (4.41.1)\n",
            "Requirement already satisfied: packaging>=20.0 in /usr/local/lib/python3.10/dist-packages (from matplotlib->roboflow) (23.1)\n",
            "Requirement already satisfied: charset-normalizer~=2.0.0 in /usr/local/lib/python3.10/dist-packages (from requests->roboflow) (2.0.12)\n",
            "Requirement already satisfied: opencv-python-headless<5.0.0.0,>=4.8.0.74 in /usr/local/lib/python3.10/dist-packages (from supervision->roboflow) (4.8.0.74)\n",
            "Collecting Pillow>=7.1.2 (from roboflow)\n",
            "  Downloading Pillow-8.4.0-cp310-cp310-manylinux_2_17_x86_64.manylinux2014_x86_64.whl (3.1 MB)\n",
            "\u001b[2K     \u001b[90m━━━━━━━━━━━━━━━━━━━━━━━━━━━━━━━━━━━━━━━━\u001b[0m \u001b[32m3.1/3.1 MB\u001b[0m \u001b[31m45.6 MB/s\u001b[0m eta \u001b[36m0:00:00\u001b[0m\n",
            "\u001b[?25hBuilding wheels for collected packages: wget\n",
            "  Building wheel for wget (setup.py) ... \u001b[?25l\u001b[?25hdone\n",
            "  Created wheel for wget: filename=wget-3.2-py3-none-any.whl size=9656 sha256=70e5daf50d03a266f6091e21c30219594829038d34cd5af2cdb7417115309ec7\n",
            "  Stored in directory: /root/.cache/pip/wheels/8b/f1/7f/5c94f0a7a505ca1c81cd1d9208ae2064675d97582078e6c769\n",
            "Successfully built wget\n",
            "Installing collected packages: wget, python-dotenv, pyparsing, Pillow, idna, cycler, certifi, supervision, requests-toolbelt, roboflow\n",
            "  Attempting uninstall: pyparsing\n",
            "    Found existing installation: pyparsing 3.1.0\n",
            "    Uninstalling pyparsing-3.1.0:\n",
            "      Successfully uninstalled pyparsing-3.1.0\n",
            "  Attempting uninstall: Pillow\n",
            "    Found existing installation: Pillow 9.4.0\n",
            "    Uninstalling Pillow-9.4.0:\n",
            "      Successfully uninstalled Pillow-9.4.0\n",
            "  Attempting uninstall: idna\n",
            "    Found existing installation: idna 3.4\n",
            "    Uninstalling idna-3.4:\n",
            "      Successfully uninstalled idna-3.4\n",
            "  Attempting uninstall: cycler\n",
            "    Found existing installation: cycler 0.11.0\n",
            "    Uninstalling cycler-0.11.0:\n",
            "      Successfully uninstalled cycler-0.11.0\n",
            "  Attempting uninstall: certifi\n",
            "    Found existing installation: certifi 2023.7.22\n",
            "    Uninstalling certifi-2023.7.22:\n",
            "      Successfully uninstalled certifi-2023.7.22\n",
            "Successfully installed Pillow-8.4.0 certifi-2022.12.7 cycler-0.10.0 idna-2.10 pyparsing-2.4.7 python-dotenv-1.0.0 requests-toolbelt-1.0.0 roboflow-1.1.2 supervision-0.12.0 wget-3.2\n"
          ]
        },
        {
          "output_type": "display_data",
          "data": {
            "application/vnd.colab-display-data+json": {
              "pip_warning": {
                "packages": [
                  "PIL",
                  "certifi",
                  "cycler",
                  "pyparsing"
                ]
              }
            }
          },
          "metadata": {}
        }
      ]
    },
    {
      "cell_type": "code",
      "source": [
        "#########################################\n",
        "# *download dataset\n",
        "# *건드리지 말것\n",
        "#########################################\n",
        "#first dataset\n",
        "rf1 = Roboflow(api_key=\"nYu9FE9UaecPefD7SCTJ\")\n",
        "project1 = rf1.workspace(\"nicolai-hoirup-nielsen\").project(\"fridgeanalysisv2\")\n",
        "dataset1 = project1.version(1).download(\"coco\")\n",
        "\n",
        "#second dataset\n",
        "rf2 = Roboflow(api_key=\"nYu9FE9UaecPefD7SCTJ\")\n",
        "project2 = rf2.workspace(\"gakusai\").project(\"frige5_without_cha-cabbage\")\n",
        "dataset2 = project2.version(1).download(\"coco\")\n"
      ],
      "metadata": {
        "colab": {
          "base_uri": "https://localhost:8080/"
        },
        "id": "czjUD0aIAPCD",
        "outputId": "96fe3e1f-113e-43e4-aa25-425840fbad1b"
      },
      "execution_count": null,
      "outputs": [
        {
          "output_type": "stream",
          "name": "stdout",
          "text": [
            "loading Roboflow workspace...\n",
            "loading Roboflow project...\n",
            "Downloading Dataset Version Zip in FridgeAnalysisV2-1 to coco: 100% [104200591 / 104200591] bytes\n"
          ]
        },
        {
          "output_type": "stream",
          "name": "stderr",
          "text": [
            "Extracting Dataset Version Zip to FridgeAnalysisV2-1 in coco:: 100%|██████████| 2149/2149 [00:01<00:00, 1648.02it/s]\n"
          ]
        },
        {
          "output_type": "stream",
          "name": "stdout",
          "text": [
            "loading Roboflow workspace...\n",
            "loading Roboflow project...\n",
            "Downloading Dataset Version Zip in frige5_without_cha-cabbage-1 to coco: 100% [37510973 / 37510973] bytes\n"
          ]
        },
        {
          "output_type": "stream",
          "name": "stderr",
          "text": [
            "Extracting Dataset Version Zip to frige5_without_cha-cabbage-1 in coco:: 100%|██████████| 835/835 [00:00<00:00, 1386.76it/s]\n"
          ]
        }
      ]
    },
    {
      "cell_type": "code",
      "source": [
        "import json\n",
        "import os\n",
        "\n",
        "filename = '/content/FridgeAnalysisV2-1/train/_annotations.coco.json'\n",
        "with open(filename, 'r') as f:\n",
        "    data = json.load(f)\n",
        "    for i in data['categories']:\n",
        "      label = i['name']\n",
        "      i['name']= label.lower()\n",
        "os.remove(filename)\n",
        "with open('/content/FridgeAnalysisV2-1/train.json', 'w') as f:\n",
        "  json.dump(data, f, indent = 4)\n",
        "\n",
        "filename = '/content/frige5_without_cha-cabbage-1/train/_annotations.coco.json'\n",
        "with open(filename, 'r') as f:\n",
        "    data = json.load(f)\n",
        "    for i in data['categories']:\n",
        "      label = i['name']\n",
        "      i['name']= label.lower()\n",
        "os.remove(filename)\n",
        "with open('/content/frige5_without_cha-cabbage-1/train1.json', 'w') as f:\n",
        "  json.dump(data, f, indent = 4)\n",
        "\n",
        "os.rename('/content/frige5_without_cha-cabbage-1/train', '/content/frige5_without_cha-cabbage-1/train')"
      ],
      "metadata": {
        "id": "9uuX1QctlrFY"
      },
      "execution_count": null,
      "outputs": []
    },
    {
      "cell_type": "code",
      "source": [
        "!pip install coco_assistant\n",
        "from coco_assistant import COCO_Assistant"
      ],
      "metadata": {
        "id": "_2MFMgBircAj",
        "colab": {
          "base_uri": "https://localhost:8080/"
        },
        "outputId": "d81b33ea-1ad6-46c2-8638-7bd34675449b"
      },
      "execution_count": null,
      "outputs": [
        {
          "output_type": "stream",
          "name": "stdout",
          "text": [
            "Collecting coco_assistant\n",
            "  Downloading coco_assistant-0.4.0-py3-none-any.whl (16 kB)\n",
            "INFO: pip is looking at multiple versions of coco-assistant to determine which version is compatible with other requirements. This could take a while.\n",
            "  Downloading coco_assistant-0.3.5-py3-none-any.whl (18 kB)\n",
            "Requirement already satisfied: Cython in /usr/local/lib/python3.10/dist-packages (from coco_assistant) (0.29.36)\n",
            "Requirement already satisfied: matplotlib in /usr/local/lib/python3.10/dist-packages (from coco_assistant) (3.7.1)\n",
            "Requirement already satisfied: numpy in /usr/local/lib/python3.10/dist-packages (from coco_assistant) (1.22.4)\n",
            "Requirement already satisfied: pandas in /usr/local/lib/python3.10/dist-packages (from coco_assistant) (1.5.3)\n",
            "Requirement already satisfied: Pillow>=8.1.1 in /usr/local/lib/python3.10/dist-packages (from coco_assistant) (8.4.0)\n",
            "Requirement already satisfied: pycocotools in /usr/local/lib/python3.10/dist-packages (from coco_assistant) (2.0.6)\n",
            "Requirement already satisfied: seaborn in /usr/local/lib/python3.10/dist-packages (from coco_assistant) (0.12.2)\n",
            "Requirement already satisfied: tqdm in /usr/local/lib/python3.10/dist-packages (from coco_assistant) (4.65.0)\n",
            "Requirement already satisfied: setuptools>=40.6.3 in /usr/local/lib/python3.10/dist-packages (from coco_assistant) (67.7.2)\n",
            "Requirement already satisfied: wheel>=0.32.3 in /usr/local/lib/python3.10/dist-packages (from coco_assistant) (0.41.0)\n",
            "Requirement already satisfied: contourpy>=1.0.1 in /usr/local/lib/python3.10/dist-packages (from matplotlib->coco_assistant) (1.1.0)\n",
            "Requirement already satisfied: cycler>=0.10 in /usr/local/lib/python3.10/dist-packages (from matplotlib->coco_assistant) (0.10.0)\n",
            "Requirement already satisfied: fonttools>=4.22.0 in /usr/local/lib/python3.10/dist-packages (from matplotlib->coco_assistant) (4.41.1)\n",
            "Requirement already satisfied: kiwisolver>=1.0.1 in /usr/local/lib/python3.10/dist-packages (from matplotlib->coco_assistant) (1.4.4)\n",
            "Requirement already satisfied: packaging>=20.0 in /usr/local/lib/python3.10/dist-packages (from matplotlib->coco_assistant) (23.1)\n",
            "Requirement already satisfied: pyparsing>=2.3.1 in /usr/local/lib/python3.10/dist-packages (from matplotlib->coco_assistant) (2.4.7)\n",
            "Requirement already satisfied: python-dateutil>=2.7 in /usr/local/lib/python3.10/dist-packages (from matplotlib->coco_assistant) (2.8.2)\n",
            "Requirement already satisfied: pytz>=2020.1 in /usr/local/lib/python3.10/dist-packages (from pandas->coco_assistant) (2022.7.1)\n",
            "Requirement already satisfied: six in /usr/local/lib/python3.10/dist-packages (from cycler>=0.10->matplotlib->coco_assistant) (1.16.0)\n",
            "Installing collected packages: coco_assistant\n",
            "Successfully installed coco_assistant-0.3.5\n"
          ]
        }
      ]
    },
    {
      "cell_type": "code",
      "source": [
        "# Specify image and annotation directories\n",
        "img_dir = \"/content/FridgeAnalysisV2-1/train\"\n",
        "ann_dir = \"/content/FridgeAnalysisV2-1\"\n",
        "\n",
        "# Create COCO_Assistant object\n",
        "cas = COCO_Assistant(img_dir, ann_dir)"
      ],
      "metadata": {
        "colab": {
          "base_uri": "https://localhost:8080/",
          "height": 373
        },
        "id": "Yj2TUqgbs6vC",
        "outputId": "7f9d996b-7409-4192-bb26-8d301d05295c"
      },
      "execution_count": null,
      "outputs": [
        {
          "output_type": "error",
          "ename": "AssertionError",
          "evalue": "ignored",
          "traceback": [
            "\u001b[0;31m---------------------------------------------------------------------------\u001b[0m",
            "\u001b[0;31mAssertionError\u001b[0m                            Traceback (most recent call last)",
            "\u001b[0;32m<ipython-input-8-aa88540040c5>\u001b[0m in \u001b[0;36m<cell line: 6>\u001b[0;34m()\u001b[0m\n\u001b[1;32m      4\u001b[0m \u001b[0;34m\u001b[0m\u001b[0m\n\u001b[1;32m      5\u001b[0m \u001b[0;31m# Create COCO_Assistant object\u001b[0m\u001b[0;34m\u001b[0m\u001b[0;34m\u001b[0m\u001b[0m\n\u001b[0;32m----> 6\u001b[0;31m \u001b[0mcas\u001b[0m \u001b[0;34m=\u001b[0m \u001b[0mCOCO_Assistant\u001b[0m\u001b[0;34m(\u001b[0m\u001b[0mimg_dir\u001b[0m\u001b[0;34m,\u001b[0m \u001b[0mann_dir\u001b[0m\u001b[0;34m)\u001b[0m\u001b[0;34m\u001b[0m\u001b[0;34m\u001b[0m\u001b[0m\n\u001b[0m",
            "\u001b[0;32m/usr/local/lib/python3.10/dist-packages/coco_assistant/coco_assistant.py\u001b[0m in \u001b[0;36m__init__\u001b[0;34m(self, img_dir, ann_dir)\u001b[0m\n\u001b[1;32m     46\u001b[0m         \u001b[0;31m# Parent dir should be the same\u001b[0m\u001b[0;34m\u001b[0m\u001b[0;34m\u001b[0m\u001b[0m\n\u001b[1;32m     47\u001b[0m         \u001b[0;32mif\u001b[0m \u001b[0mself\u001b[0m\u001b[0;34m.\u001b[0m\u001b[0mann_dir\u001b[0m\u001b[0;34m.\u001b[0m\u001b[0mparents\u001b[0m\u001b[0;34m[\u001b[0m\u001b[0;36m0\u001b[0m\u001b[0;34m]\u001b[0m \u001b[0;34m!=\u001b[0m \u001b[0mself\u001b[0m\u001b[0;34m.\u001b[0m\u001b[0mimg_dir\u001b[0m\u001b[0;34m.\u001b[0m\u001b[0mparents\u001b[0m\u001b[0;34m[\u001b[0m\u001b[0;36m0\u001b[0m\u001b[0;34m]\u001b[0m\u001b[0;34m:\u001b[0m\u001b[0;34m\u001b[0m\u001b[0;34m\u001b[0m\u001b[0m\n\u001b[0;32m---> 48\u001b[0;31m             \u001b[0;32mraise\u001b[0m \u001b[0mAssertionError\u001b[0m\u001b[0;34m(\u001b[0m\u001b[0;34m\"Directory not in expected format\"\u001b[0m\u001b[0;34m)\u001b[0m\u001b[0;34m\u001b[0m\u001b[0;34m\u001b[0m\u001b[0m\n\u001b[0m\u001b[1;32m     49\u001b[0m         \u001b[0mself\u001b[0m\u001b[0;34m.\u001b[0m\u001b[0mres_dir\u001b[0m \u001b[0;34m=\u001b[0m \u001b[0mself\u001b[0m\u001b[0;34m.\u001b[0m\u001b[0mann_dir\u001b[0m\u001b[0;34m.\u001b[0m\u001b[0mparents\u001b[0m\u001b[0;34m[\u001b[0m\u001b[0;36m0\u001b[0m\u001b[0;34m]\u001b[0m \u001b[0;34m/\u001b[0m \u001b[0;34m\"results\"\u001b[0m\u001b[0;34m\u001b[0m\u001b[0;34m\u001b[0m\u001b[0m\n\u001b[1;32m     50\u001b[0m \u001b[0;34m\u001b[0m\u001b[0m\n",
            "\u001b[0;31mAssertionError\u001b[0m: Directory not in expected format"
          ]
        }
      ]
    },
    {
      "cell_type": "code",
      "execution_count": null,
      "metadata": {
        "colab": {
          "base_uri": "https://localhost:8080/"
        },
        "id": "HSvcmuNPcPbX",
        "outputId": "8334629e-9c27-45da-dabb-035c0318f83c"
      },
      "outputs": [
        {
          "output_type": "stream",
          "name": "stdout",
          "text": [
            "--2023-07-16 04:45:54--  https://kr.object.ncloudstorage.com/aihub-competition/dataset/Food_Train.zip\n",
            "Resolving kr.object.ncloudstorage.com (kr.object.ncloudstorage.com)... 61.97.180.103\n",
            "Connecting to kr.object.ncloudstorage.com (kr.object.ncloudstorage.com)|61.97.180.103|:443... connected.\n",
            "HTTP request sent, awaiting response... 200 OK\n",
            "Length: 1773250355 (1.7G) [application/zip]\n",
            "Saving to: ‘Food_Train.zip’\n",
            "\n",
            "Food_Train.zip      100%[===================>]   1.65G  8.74MB/s    in 2m 57s  \n",
            "\n",
            "2023-07-16 04:48:53 (9.58 MB/s) - ‘Food_Train.zip’ saved [1773250355/1773250355]\n",
            "\n",
            "--2023-07-16 04:49:18--  https://kr.object.ncloudstorage.com/aihub-competition/dataset/food_train_anno.json\n",
            "Resolving kr.object.ncloudstorage.com (kr.object.ncloudstorage.com)... 220.230.123.74\n",
            "Connecting to kr.object.ncloudstorage.com (kr.object.ncloudstorage.com)|220.230.123.74|:443... connected.\n",
            "HTTP request sent, awaiting response... 200 OK\n",
            "Length: 42767383 (41M) [application/json]\n",
            "Saving to: ‘food_train_anno.json’\n",
            "\n",
            "food_train_anno.jso 100%[===================>]  40.79M  7.89MB/s    in 5.2s    \n",
            "\n",
            "2023-07-16 04:49:25 (7.89 MB/s) - ‘food_train_anno.json’ saved [42767383/42767383]\n",
            "\n"
          ]
        }
      ],
      "source": [
        "#########################################\n",
        "# *download dataset\n",
        "# *건드리지 말것\n",
        "#########################################\n",
        "\n",
        "!wget https://kr.object.ncloudstorage.com/aihub-competition/dataset/Food_Train.zip\n",
        "!unzip -qq Food_Train.zip\n",
        "!wget https://kr.object.ncloudstorage.com/aihub-competition/dataset/food_train_anno.json"
      ]
    },
    {
      "cell_type": "code",
      "execution_count": null,
      "metadata": {
        "colab": {
          "base_uri": "https://localhost:8080/"
        },
        "id": "wjnOiNwdevPc",
        "outputId": "c2022619-ca2a-4eb5-a730-225db1c2a6e5"
      },
      "outputs": [
        {
          "output_type": "stream",
          "name": "stdout",
          "text": [
            "Requirement already satisfied: torch in /usr/local/lib/python3.10/dist-packages (2.0.1+cu118)\n",
            "Requirement already satisfied: filelock in /usr/local/lib/python3.10/dist-packages (from torch) (3.12.2)\n",
            "Requirement already satisfied: typing-extensions in /usr/local/lib/python3.10/dist-packages (from torch) (4.7.1)\n",
            "Requirement already satisfied: sympy in /usr/local/lib/python3.10/dist-packages (from torch) (1.11.1)\n",
            "Requirement already satisfied: networkx in /usr/local/lib/python3.10/dist-packages (from torch) (3.1)\n",
            "Requirement already satisfied: jinja2 in /usr/local/lib/python3.10/dist-packages (from torch) (3.1.2)\n",
            "Requirement already satisfied: triton==2.0.0 in /usr/local/lib/python3.10/dist-packages (from torch) (2.0.0)\n",
            "Requirement already satisfied: cmake in /usr/local/lib/python3.10/dist-packages (from triton==2.0.0->torch) (3.25.2)\n",
            "Requirement already satisfied: lit in /usr/local/lib/python3.10/dist-packages (from triton==2.0.0->torch) (16.0.6)\n",
            "Requirement already satisfied: MarkupSafe>=2.0 in /usr/local/lib/python3.10/dist-packages (from jinja2->torch) (2.1.3)\n",
            "Requirement already satisfied: mpmath>=0.19 in /usr/local/lib/python3.10/dist-packages (from sympy->torch) (1.3.0)\n",
            "Requirement already satisfied: torchvision in /usr/local/lib/python3.10/dist-packages (0.15.2+cu118)\n",
            "Requirement already satisfied: numpy in /usr/local/lib/python3.10/dist-packages (from torchvision) (1.22.1)\n",
            "Requirement already satisfied: requests in /usr/local/lib/python3.10/dist-packages (from torchvision) (2.27.1)\n",
            "Requirement already satisfied: torch==2.0.1 in /usr/local/lib/python3.10/dist-packages (from torchvision) (2.0.1+cu118)\n",
            "Requirement already satisfied: pillow!=8.3.*,>=5.3.0 in /usr/local/lib/python3.10/dist-packages (from torchvision) (9.2.0)\n",
            "Requirement already satisfied: filelock in /usr/local/lib/python3.10/dist-packages (from torch==2.0.1->torchvision) (3.12.2)\n",
            "Requirement already satisfied: typing-extensions in /usr/local/lib/python3.10/dist-packages (from torch==2.0.1->torchvision) (4.7.1)\n",
            "Requirement already satisfied: sympy in /usr/local/lib/python3.10/dist-packages (from torch==2.0.1->torchvision) (1.11.1)\n",
            "Requirement already satisfied: networkx in /usr/local/lib/python3.10/dist-packages (from torch==2.0.1->torchvision) (3.1)\n",
            "Requirement already satisfied: jinja2 in /usr/local/lib/python3.10/dist-packages (from torch==2.0.1->torchvision) (3.1.2)\n",
            "Requirement already satisfied: triton==2.0.0 in /usr/local/lib/python3.10/dist-packages (from torch==2.0.1->torchvision) (2.0.0)\n",
            "Requirement already satisfied: cmake in /usr/local/lib/python3.10/dist-packages (from triton==2.0.0->torch==2.0.1->torchvision) (3.25.2)\n",
            "Requirement already satisfied: lit in /usr/local/lib/python3.10/dist-packages (from triton==2.0.0->torch==2.0.1->torchvision) (16.0.6)\n",
            "Requirement already satisfied: urllib3<1.27,>=1.21.1 in /usr/local/lib/python3.10/dist-packages (from requests->torchvision) (1.26.16)\n",
            "Requirement already satisfied: certifi>=2017.4.17 in /usr/local/lib/python3.10/dist-packages (from requests->torchvision) (2022.12.7)\n",
            "Requirement already satisfied: charset-normalizer~=2.0.0 in /usr/local/lib/python3.10/dist-packages (from requests->torchvision) (2.0.12)\n",
            "Requirement already satisfied: idna<4,>=2.5 in /usr/local/lib/python3.10/dist-packages (from requests->torchvision) (2.10)\n",
            "Requirement already satisfied: MarkupSafe>=2.0 in /usr/local/lib/python3.10/dist-packages (from jinja2->torch==2.0.1->torchvision) (2.1.3)\n",
            "Requirement already satisfied: mpmath>=0.19 in /usr/local/lib/python3.10/dist-packages (from sympy->torch==2.0.1->torchvision) (1.3.0)\n"
          ]
        }
      ],
      "source": [
        "!pip install torch\n",
        "!pip install torchvision"
      ]
    },
    {
      "cell_type": "code",
      "source": [
        "%matplotlib inline"
      ],
      "metadata": {
        "id": "oTzW4FjdiEv_"
      },
      "execution_count": null,
      "outputs": []
    },
    {
      "cell_type": "code",
      "execution_count": null,
      "metadata": {
        "colab": {
          "base_uri": "https://localhost:8080/"
        },
        "id": "nwWEp1Kkc2TU",
        "outputId": "2e2a5f43-ae8b-4f6c-8823-b5f1f6f493d2"
      },
      "outputs": [
        {
          "output_type": "stream",
          "name": "stdout",
          "text": [
            "cpu\n",
            "loading annotations into memory...\n",
            "Done (t=0.31s)\n",
            "creating index...\n",
            "index created!\n",
            "{0: {'id': 0, 'name': 'food', 'supercategory': 'none'}, 1: {'id': 1, 'name': 'banana', 'supercategory': 'food'}, 2: {'id': 2, 'name': 'beetroot', 'supercategory': 'food'}, 3: {'id': 3, 'name': 'broccoli', 'supercategory': 'food'}, 4: {'id': 4, 'name': 'cauliflower', 'supercategory': 'food'}, 5: {'id': 5, 'name': 'lemon', 'supercategory': 'food'}, 6: {'id': 6, 'name': 'onion', 'supercategory': 'food'}, 7: {'id': 7, 'name': 'orange', 'supercategory': 'food'}, 8: {'id': 8, 'name': 'peas', 'supercategory': 'food'}, 9: {'id': 9, 'name': 'potato', 'supercategory': 'food'}, 10: {'id': 10, 'name': 'shallot', 'supercategory': 'food'}, 11: {'id': 11, 'name': 'strawberry', 'supercategory': 'food'}, 12: {'id': 12, 'name': 'sweetcorn', 'supercategory': 'food'}, 13: {'id': 13, 'name': 'tomato', 'supercategory': 'food'}, 14: {'id': 14, 'name': 'apple', 'supercategory': 'food'}, 15: {'id': 15, 'name': 'apples', 'supercategory': 'food'}, 16: {'id': 16, 'name': 'asparagus', 'supercategory': 'food'}, 17: {'id': 17, 'name': 'aubergine', 'supercategory': 'food'}, 18: {'id': 18, 'name': 'bacon', 'supercategory': 'food'}, 19: {'id': 19, 'name': 'banana', 'supercategory': 'food'}, 20: {'id': 20, 'name': 'bananas', 'supercategory': 'food'}, 21: {'id': 21, 'name': 'bazlama', 'supercategory': 'food'}, 22: {'id': 22, 'name': 'beef', 'supercategory': 'food'}, 23: {'id': 23, 'name': 'blueberries', 'supercategory': 'food'}, 24: {'id': 24, 'name': 'bread', 'supercategory': 'food'}, 25: {'id': 25, 'name': 'broccoli', 'supercategory': 'food'}, 26: {'id': 26, 'name': 'butter', 'supercategory': 'food'}, 27: {'id': 27, 'name': 'carrot', 'supercategory': 'food'}, 28: {'id': 28, 'name': 'carrots', 'supercategory': 'food'}, 29: {'id': 29, 'name': 'cheese', 'supercategory': 'food'}, 30: {'id': 30, 'name': 'chicken', 'supercategory': 'food'}, 31: {'id': 31, 'name': 'chicken_breast', 'supercategory': 'food'}, 32: {'id': 32, 'name': 'chocolate', 'supercategory': 'food'}, 33: {'id': 33, 'name': 'chocolate chips', 'supercategory': 'food'}, 34: {'id': 34, 'name': 'corn', 'supercategory': 'food'}, 35: {'id': 35, 'name': 'courgettes', 'supercategory': 'food'}, 36: {'id': 36, 'name': 'cream', 'supercategory': 'food'}, 37: {'id': 37, 'name': 'cream cheese', 'supercategory': 'food'}, 38: {'id': 38, 'name': 'dates', 'supercategory': 'food'}, 39: {'id': 39, 'name': 'eggs', 'supercategory': 'food'}, 40: {'id': 40, 'name': 'flour', 'supercategory': 'food'}, 41: {'id': 41, 'name': 'ginger', 'supercategory': 'food'}, 42: {'id': 42, 'name': 'goat_cheese', 'supercategory': 'food'}, 43: {'id': 43, 'name': 'green beans', 'supercategory': 'food'}, 44: {'id': 44, 'name': 'green bell pepper', 'supercategory': 'food'}, 45: {'id': 45, 'name': 'green chilies', 'supercategory': 'food'}, 46: {'id': 46, 'name': 'green_beans', 'supercategory': 'food'}, 47: {'id': 47, 'name': 'ground_beef', 'supercategory': 'food'}, 48: {'id': 48, 'name': 'ham', 'supercategory': 'food'}, 49: {'id': 49, 'name': 'heavy_cream', 'supercategory': 'food'}, 50: {'id': 50, 'name': 'juice', 'supercategory': 'food'}, 51: {'id': 51, 'name': 'lemon', 'supercategory': 'food'}, 52: {'id': 52, 'name': 'lemons', 'supercategory': 'food'}, 53: {'id': 53, 'name': 'lettuce', 'supercategory': 'food'}, 54: {'id': 54, 'name': 'lime', 'supercategory': 'food'}, 55: {'id': 55, 'name': 'mango', 'supercategory': 'food'}, 56: {'id': 56, 'name': 'meat', 'supercategory': 'food'}, 57: {'id': 57, 'name': 'milk', 'supercategory': 'food'}, 58: {'id': 58, 'name': 'mineral water', 'supercategory': 'food'}, 59: {'id': 59, 'name': 'mushroom', 'supercategory': 'food'}, 60: {'id': 60, 'name': 'mushrooms', 'supercategory': 'food'}, 61: {'id': 61, 'name': 'olive', 'supercategory': 'food'}, 62: {'id': 62, 'name': 'olives', 'supercategory': 'food'}, 63: {'id': 63, 'name': 'onion', 'supercategory': 'food'}, 64: {'id': 64, 'name': 'orange', 'supercategory': 'food'}, 65: {'id': 65, 'name': 'parsley', 'supercategory': 'food'}, 66: {'id': 66, 'name': 'peach', 'supercategory': 'food'}, 67: {'id': 67, 'name': 'peppers', 'supercategory': 'food'}, 68: {'id': 68, 'name': 'potato', 'supercategory': 'food'}, 69: {'id': 69, 'name': 'potatoes', 'supercategory': 'food'}, 70: {'id': 70, 'name': 'red bell pepper', 'supercategory': 'food'}, 71: {'id': 71, 'name': 'red grapes', 'supercategory': 'food'}, 72: {'id': 72, 'name': 'red onion', 'supercategory': 'food'}, 73: {'id': 73, 'name': 'salami', 'supercategory': 'food'}, 74: {'id': 74, 'name': 'sauce', 'supercategory': 'food'}, 75: {'id': 75, 'name': 'sausage', 'supercategory': 'food'}, 76: {'id': 76, 'name': 'shrimp', 'supercategory': 'food'}, 77: {'id': 77, 'name': 'spinach', 'supercategory': 'food'}, 78: {'id': 78, 'name': 'spring onion', 'supercategory': 'food'}, 79: {'id': 79, 'name': 'strawberries', 'supercategory': 'food'}, 80: {'id': 80, 'name': 'strawberry', 'supercategory': 'food'}, 81: {'id': 81, 'name': 'sugar', 'supercategory': 'food'}, 82: {'id': 82, 'name': 'sweet_potato', 'supercategory': 'food'}, 83: {'id': 83, 'name': 'tomato', 'supercategory': 'food'}, 84: {'id': 84, 'name': 'tomato paste', 'supercategory': 'food'}, 85: {'id': 85, 'name': 'tomatoes', 'supercategory': 'food'}, 86: {'id': 86, 'name': 'yellow bell pepper', 'supercategory': 'food'}, 87: {'id': 87, 'name': 'yoghurt', 'supercategory': 'food'}, 88: {'id': 88, 'name': 'foods', 'supercategory': 'none'}, 89: {'id': 89, 'name': 'cabbage', 'supercategory': 'foods'}, 90: {'id': 90, 'name': 'eggplant', 'supercategory': 'foods'}}\n",
            "91\n",
            "Downloading: \"https://download.pytorch.org/models/mobilenet_v3_large-8738ca79.pth\" to /root/.cache/torch/hub/checkpoints/mobilenet_v3_large-8738ca79.pth\n",
            "100% 21.1M/21.1M [00:00<00:00, 67.5MB/s]\n",
            "\n",
            ">>> Epoch #1\n",
            "Traceback (most recent call last):\n",
            "  File \"/content/gdrive/MyDrive/dab_project/main.py\", line 134, in <module>\n",
            "    main(args)\n",
            "  File \"/content/gdrive/MyDrive/dab_project/main.py\", line 118, in main\n",
            "    train_one_epoch(\n",
            "  File \"/content/gdrive/MyDrive/dab_project/dab/engine/trainer.py\", line 21, in train_one_epoch\n",
            "    loss_dict = model(samples, targets)\n",
            "  File \"/usr/local/lib/python3.10/dist-packages/torch/nn/modules/module.py\", line 1501, in _call_impl\n",
            "    return forward_call(*args, **kwargs)\n",
            "  File \"/usr/local/lib/python3.10/dist-packages/torchvision/models/detection/generalized_rcnn.py\", line 101, in forward\n",
            "    features = self.backbone(images.tensors)\n",
            "  File \"/usr/local/lib/python3.10/dist-packages/torch/nn/modules/module.py\", line 1501, in _call_impl\n",
            "    return forward_call(*args, **kwargs)\n",
            "  File \"/usr/local/lib/python3.10/dist-packages/torchvision/models/detection/backbone_utils.py\", line 57, in forward\n",
            "    x = self.body(x)\n",
            "  File \"/usr/local/lib/python3.10/dist-packages/torch/nn/modules/module.py\", line 1501, in _call_impl\n",
            "    return forward_call(*args, **kwargs)\n",
            "  File \"/usr/local/lib/python3.10/dist-packages/torchvision/models/_utils.py\", line 69, in forward\n",
            "    x = module(x)\n",
            "  File \"/usr/local/lib/python3.10/dist-packages/torch/nn/modules/module.py\", line 1501, in _call_impl\n",
            "    return forward_call(*args, **kwargs)\n",
            "  File \"/usr/local/lib/python3.10/dist-packages/torchvision/models/mobilenetv3.py\", line 111, in forward\n",
            "    result = self.block(input)\n",
            "  File \"/usr/local/lib/python3.10/dist-packages/torch/nn/modules/module.py\", line 1501, in _call_impl\n",
            "    return forward_call(*args, **kwargs)\n",
            "  File \"/usr/local/lib/python3.10/dist-packages/torch/nn/modules/container.py\", line 217, in forward\n",
            "    input = module(input)\n",
            "  File \"/usr/local/lib/python3.10/dist-packages/torch/nn/modules/module.py\", line 1501, in _call_impl\n",
            "    return forward_call(*args, **kwargs)\n",
            "  File \"/usr/local/lib/python3.10/dist-packages/torch/nn/modules/container.py\", line 217, in forward\n",
            "    input = module(input)\n",
            "  File \"/usr/local/lib/python3.10/dist-packages/torch/nn/modules/module.py\", line 1501, in _call_impl\n",
            "    return forward_call(*args, **kwargs)\n",
            "  File \"/usr/local/lib/python3.10/dist-packages/torch/nn/modules/conv.py\", line 463, in forward\n",
            "    return self._conv_forward(input, self.weight, self.bias)\n",
            "  File \"/usr/local/lib/python3.10/dist-packages/torch/nn/modules/conv.py\", line 459, in _conv_forward\n",
            "    return F.conv2d(input, weight, bias, self.stride,\n",
            "KeyboardInterrupt\n",
            "^C\n"
          ]
        }
      ],
      "source": [
        "#################################################################################################################\n",
        "# 첫번째 줄이 main.py를 불러오는 건데'/content/gdrive/MyDrive/dab_project/main.py'에 해당 하는 부분을 너네 directory에 맞게 경로 수정하셈\n",
        "# output_dir 뒤에 있는 부분은 model weight를 저장하는 directory이기 때문에 너네가 원하는 directory로 바꾸면 돼\n",
        "# gpu ram이 부족하다고 뜨면 batch_size를 줄이면 됨\n",
        "# 그리고 한 epoch이 돌아갈 때마다 output_dir 경로 파일에 model weight가 '.pth' 파일 형태로 저장될 거야\n",
        "# 그래서 그 model weight로부터 다시 시작하고 싶을 때는\n",
        "# '--resume '그 pth 파일로의 경로'를 밑에 코드에 추가해서 실행시키면 돼(추가할 때는 앞에 줄 뒤에 \\ 추가시켜줘야함)\n",
        "# 안 그러면 아예 처음부터 다시 학습을 하게 됨 ㅋㅋㅋㅋ\n",
        "# 한 epoch 돌아가는데 40분 정도 걸리는 듯\n",
        "#################################################################################################################\n",
        "\n",
        "\n",
        "!python /content/gdrive/MyDrive/dab_project/main.py \\\n",
        "\t\t--run_name food_single_run_000002 \\\n",
        "\t\t--data_path /content/ \\\n",
        "\t\t--output_dir /content/gdrive/MyDrive/dab_project/checkpoints\\\n",
        "\t\t--batch_size 50 \\\n",
        "\n",
        "\n"
      ]
    },
    {
      "cell_type": "code",
      "source": [
        "####################################\n",
        "#*레시피 조작\n",
        "####################################\n",
        "\n",
        "#import pandas as pd\n",
        "\n",
        "#df = pd.read_csv('/content/gdrive/MyDrive/dab_project/dab/data/recipe_data/recipe.csv',  encoding = 'utf-8')\n",
        "#df = df.dropna(axis='rows')"
      ],
      "metadata": {
        "id": "jeoSWLEWWOJK"
      },
      "execution_count": null,
      "outputs": []
    },
    {
      "cell_type": "code",
      "source": [
        "from sentence_transformers import SentenceTransformer, util\n",
        "import numpy as np\n",
        "def Sort_Tuple(tup):\n",
        "\n",
        "    # reverse = None (Sorts in Ascending order)\n",
        "    # key is set to sort using second element of\n",
        "    # sublist lambda has been used\n",
        "    return(sorted(tup, key = lambda x: x[1], reverse = True))\n",
        "embedder = SentenceTransformer(\"jhgan/ko-sbert-sts\")\n",
        "embedder.to(\"cuda:0\")\n",
        "\n",
        "# Corpus with example sentences\n",
        "corpus = df['RCP_PARTS_DTLS'].tolist()\n",
        "corpus_embeddings = embedder.encode(corpus, convert_to_tensor=True)\n",
        "\n",
        "#corpus_embeddings = torch.load('/content/gdrive/MyDrive/dab_project/dab/data/recipe_data/recipe_embeddings.pt')\n",
        "# Query sentences:\n",
        "queries = ['양파, 스파게티, 계란, 치즈, 두부, 된장, 고추장',\n",
        "           '밀가루, 간장, 파, 부추, 된장, 우유, 당근',\n",
        "           '양파, 시금치, 김치, 치즈, 돼지고기, 두부, 버섯, 새우, 당면']\n",
        "\n",
        "# Find the closest 5 sentences of the corpus for each query sentence based on cosine similarity\n",
        "top_k = 5\n",
        "for query in queries:\n",
        "    query_embedding = embedder.encode(query, convert_to_tensor=True)\n",
        "    cos_scores = util.pytorch_cos_sim(query_embedding, corpus_embeddings)[0]\n",
        "    cos_scores = cos_scores.cpu()\n",
        "    scores = list(process.extractWithoutOrder(query, corpus, scorer= fuzz.token_sort_ratio))\n",
        "    new_score = [[] for i in range(len(scores))]\n",
        "    for i in range(len(scores)):\n",
        "       mix_score = scores[i][1]+ cos_scores[i]*60\n",
        "       new_score[i].append(scores[i][0])\n",
        "       new_score[i].append(mix_score)\n",
        "    scores = Sort_Tuple(new_score)\n",
        "    #We use np.argpartition, to only partially sort the top_k results\n",
        "    top_results = np.argpartition(-cos_scores, range(top_k))[0:top_k]\n",
        "\n",
        "    print(\"\\n\\n======================\\n\\n\")\n",
        "    print(\"Query:\", query)\n",
        "    print(\"\\nTop 5 most similar sentences in corpus:\")\n",
        "\n",
        "    #for idx in top_results[0:top_k]:\n",
        "    #    print(corpus[idx].strip(), \"(Score: %.4f)\" % (cos_scores[idx]))\n",
        "\n",
        "    for idx in scores[0:top_k]:\n",
        "      print(idx[0], \"(Score: %.4f)\" % (idx[1]))"
      ],
      "metadata": {
        "colab": {
          "base_uri": "https://localhost:8080/"
        },
        "id": "IOtWAfqyyqXe",
        "outputId": "d5965d2a-02c2-4c8c-d1eb-67c8d4102127"
      },
      "execution_count": 27,
      "outputs": [
        {
          "output_type": "stream",
          "name": "stdout",
          "text": [
            "\n",
            "\n",
            "======================\n",
            "\n",
            "\n",
            "Query: 양파, 스파게티, 계란, 치즈, 두부, 된장, 고추장\n",
            "\n",
            "Top 5 most similar sentences in corpus:\n",
            "두부(100g), 된장(20g), 쌈채(100g), 생크림(20g) (Score: 67.2172)\n",
            "스파게티(100g), 양파(30g), 베이컨(20g), 새송이버섯(1개),\n",
            "브로콜리(50g), 홍고추(1개), 두유(200g), 견과류(20g),\n",
            "치즈(1장), 올리브오일(10g) (Score: 63.1062)\n",
            "밥 180, 배추김치(줄기부분) 30, 양파 20, 생 표고버섯 40, 방울토마토 200, 올리브유 12, 간장 4, 피자치즈(모짜렐라) 30, 다진 실파 5 (Score: 59.1969)\n",
            "깻잎(2장), 양파(20g), 방울토마토(5개=50g), 연두부(100g), 두부(100g), 다진 마늘(10g), 치즈(40g), 간장(8g), 올리브유(30g), 참기름(15g) (Score: 57.9614)\n",
            "•필수재료 : 현미(30g), 멥쌀(60g), 쑥갓(20g), 달래(10g)\n",
            "•두부양념장 : 고추장(5g), 된장(5g), 다시마 육수(60g), 두부(15g) (Score: 57.7594)\n",
            "\n",
            "\n",
            "======================\n",
            "\n",
            "\n",
            "Query: 밀가루, 간장, 파, 부추, 된장, 우유, 당근\n",
            "\n",
            "Top 5 most similar sentences in corpus:\n",
            "유부 8g, 달걀 30g, 당근 7g, 멸치 육수 50g, 간장 3g, 설탕 2g, 소금적당량 (Score: 71.1228)\n",
            "우유 180g, 생강 10g, 꿀 6g, 깨소금 3g, 계피가루 1g (Score: 70.6956)\n",
            "두부(100g), 된장(20g), 쌈채(100g), 생크림(20g) (Score: 68.1901)\n",
            "배 80g, 부추 5g, 고춧가루 5g, 매실청 3g, 설탕 2g, 참깨 1g (Score: 68.1447)\n",
            "가자미 50, 모시조개 15, 쑥 20, 물 200, 된장 9, 대파 4, 들깨가루 6 (Score: 66.8738)\n",
            "\n",
            "\n",
            "======================\n",
            "\n",
            "\n",
            "Query: 양파, 시금치, 김치, 치즈, 돼지고기, 두부, 버섯, 새우, 당면\n",
            "\n",
            "Top 5 most similar sentences in corpus:\n",
            "양배추(120g), 돼지고기(등심, 50g), 두부(50g), 시금치(30g),\n",
            "달걀(1개), 마늘(10g), 소금(0.2g), 후춧가루(0.01g) (Score: 69.9615)\n",
            "재료 콩나물(30g), 김치(50g)\n",
            "두부(40g), 붉은 고추(15g)\n",
            "다진 돼지고기(등심, 60g), 새우젓(5g)\n",
            "육수 대파(10g), 마늘(5g), 쇠고기(50g) (Score: 67.5557)\n",
            "두부 35g, 돼지고기다진것 15g, 당근다진것 10g, 고추기름 2g, 완두콩 10g, 파 5g, 생강 3g, 물전분 10g, 소금 적당량 (Score: 66.8543)\n",
            "돼지고기살코기 40g, 물전분 10g, 소금 적당량, 시금치 25g, 부추 10g, 간장 5g, 파 5g, 생강 3g, 식용유 2g (Score: 65.5400)\n",
            "관자(2개), 시금치(30g), 비트(20g), 양파(30g), 오이피클(20g),\n",
            "고추피클(20g), 마요네즈(20g), 꿀(20g), 버터(10g) (Score: 64.5010)\n"
          ]
        }
      ]
    }
  ],
  "metadata": {
    "colab": {
      "provenance": [],
      "gpuType": "T4",
      "authorship_tag": "ABX9TyPZ/0xZ683uHc5brQBGj435",
      "include_colab_link": true
    },
    "kernelspec": {
      "display_name": "Python 3",
      "name": "python3"
    },
    "language_info": {
      "name": "python"
    },
    "accelerator": "GPU"
  },
  "nbformat": 4,
  "nbformat_minor": 0
}