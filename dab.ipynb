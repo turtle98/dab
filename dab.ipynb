{
  "cells": [
    {
      "cell_type": "markdown",
      "metadata": {
        "id": "view-in-github",
        "colab_type": "text"
      },
      "source": [
        "<a href=\"https://colab.research.google.com/github/turtle98/dab/blob/main/dab.ipynb\" target=\"_parent\"><img src=\"https://colab.research.google.com/assets/colab-badge.svg\" alt=\"Open In Colab\"/></a>"
      ]
    },
    {
      "cell_type": "code",
      "execution_count": 1,
      "metadata": {
        "colab": {
          "base_uri": "https://localhost:8080/"
        },
        "id": "_uq0qKMFcXze",
        "outputId": "7d10a0c3-2111-4594-b1ac-60709a9a6ff6"
      },
      "outputs": [
        {
          "output_type": "stream",
          "name": "stdout",
          "text": [
            "Mounted at /content/gdrive/\n"
          ]
        }
      ],
      "source": [
        "from google.colab import drive\n",
        "drive.mount('/content/gdrive/', force_remount=True)"
      ]
    },
    {
      "cell_type": "code",
      "execution_count": null,
      "metadata": {
        "colab": {
          "base_uri": "https://localhost:8080/"
        },
        "id": "HSvcmuNPcPbX",
        "outputId": "3e7f43cf-6c2c-41b4-9058-ce18b54a5f22"
      },
      "outputs": [
        {
          "name": "stdout",
          "output_type": "stream",
          "text": [
            "--2023-07-14 08:54:24--  https://kr.object.ncloudstorage.com/aihub-competition/dataset/Food_Train.zip\n",
            "Resolving kr.object.ncloudstorage.com (kr.object.ncloudstorage.com)... 220.230.123.75\n",
            "Connecting to kr.object.ncloudstorage.com (kr.object.ncloudstorage.com)|220.230.123.75|:443... connected.\n",
            "HTTP request sent, awaiting response... 200 OK\n",
            "Length: 1773250355 (1.7G) [application/zip]\n",
            "Saving to: ‘Food_Train.zip’\n",
            "\n",
            "Food_Train.zip      100%[===================>]   1.65G  34.8MB/s    in 50s     \n",
            "\n",
            "2023-07-14 08:55:15 (34.0 MB/s) - ‘Food_Train.zip’ saved [1773250355/1773250355]\n",
            "\n",
            "--2023-07-14 08:55:40--  https://kr.object.ncloudstorage.com/aihub-competition/dataset/food_train_anno.json\n",
            "Resolving kr.object.ncloudstorage.com (kr.object.ncloudstorage.com)... 220.230.123.71\n",
            "Connecting to kr.object.ncloudstorage.com (kr.object.ncloudstorage.com)|220.230.123.71|:443... connected.\n",
            "HTTP request sent, awaiting response... 200 OK\n",
            "Length: 42767383 (41M) [application/json]\n",
            "Saving to: ‘food_train_anno.json’\n",
            "\n",
            "food_train_anno.jso 100%[===================>]  40.79M  23.2MB/s    in 1.8s    \n",
            "\n",
            "2023-07-14 08:55:43 (23.2 MB/s) - ‘food_train_anno.json’ saved [42767383/42767383]\n",
            "\n"
          ]
        }
      ],
      "source": [
        "#########################################\n",
        "# *download dataset\n",
        "# *건드리지 말것\n",
        "#########################################\n",
        "\n",
        "!wget https://kr.object.ncloudstorage.com/aihub-competition/dataset/Food_Train.zip\n",
        "!unzip -qq Food_Train.zip\n",
        "!wget https://kr.object.ncloudstorage.com/aihub-competition/dataset/food_train_anno.json"
      ]
    },
    {
      "cell_type": "code",
      "execution_count": null,
      "metadata": {
        "colab": {
          "base_uri": "https://localhost:8080/"
        },
        "id": "wjnOiNwdevPc",
        "outputId": "49983656-ecda-433b-a1cf-6d23581a8763"
      },
      "outputs": [
        {
          "name": "stdout",
          "output_type": "stream",
          "text": [
            "Requirement already satisfied: torch in /usr/local/lib/python3.10/dist-packages (2.0.1+cu118)\n",
            "Requirement already satisfied: filelock in /usr/local/lib/python3.10/dist-packages (from torch) (3.12.2)\n",
            "Requirement already satisfied: typing-extensions in /usr/local/lib/python3.10/dist-packages (from torch) (4.7.1)\n",
            "Requirement already satisfied: sympy in /usr/local/lib/python3.10/dist-packages (from torch) (1.11.1)\n",
            "Requirement already satisfied: networkx in /usr/local/lib/python3.10/dist-packages (from torch) (3.1)\n",
            "Requirement already satisfied: jinja2 in /usr/local/lib/python3.10/dist-packages (from torch) (3.1.2)\n",
            "Requirement already satisfied: triton==2.0.0 in /usr/local/lib/python3.10/dist-packages (from torch) (2.0.0)\n",
            "Requirement already satisfied: cmake in /usr/local/lib/python3.10/dist-packages (from triton==2.0.0->torch) (3.25.2)\n",
            "Requirement already satisfied: lit in /usr/local/lib/python3.10/dist-packages (from triton==2.0.0->torch) (16.0.6)\n",
            "Requirement already satisfied: MarkupSafe>=2.0 in /usr/local/lib/python3.10/dist-packages (from jinja2->torch) (2.1.3)\n",
            "Requirement already satisfied: mpmath>=0.19 in /usr/local/lib/python3.10/dist-packages (from sympy->torch) (1.3.0)\n",
            "Requirement already satisfied: torchvision in /usr/local/lib/python3.10/dist-packages (0.15.2+cu118)\n",
            "Requirement already satisfied: numpy in /usr/local/lib/python3.10/dist-packages (from torchvision) (1.22.4)\n",
            "Requirement already satisfied: requests in /usr/local/lib/python3.10/dist-packages (from torchvision) (2.27.1)\n",
            "Requirement already satisfied: torch==2.0.1 in /usr/local/lib/python3.10/dist-packages (from torchvision) (2.0.1+cu118)\n",
            "Requirement already satisfied: pillow!=8.3.*,>=5.3.0 in /usr/local/lib/python3.10/dist-packages (from torchvision) (8.4.0)\n",
            "Requirement already satisfied: filelock in /usr/local/lib/python3.10/dist-packages (from torch==2.0.1->torchvision) (3.12.2)\n",
            "Requirement already satisfied: typing-extensions in /usr/local/lib/python3.10/dist-packages (from torch==2.0.1->torchvision) (4.7.1)\n",
            "Requirement already satisfied: sympy in /usr/local/lib/python3.10/dist-packages (from torch==2.0.1->torchvision) (1.11.1)\n",
            "Requirement already satisfied: networkx in /usr/local/lib/python3.10/dist-packages (from torch==2.0.1->torchvision) (3.1)\n",
            "Requirement already satisfied: jinja2 in /usr/local/lib/python3.10/dist-packages (from torch==2.0.1->torchvision) (3.1.2)\n",
            "Requirement already satisfied: triton==2.0.0 in /usr/local/lib/python3.10/dist-packages (from torch==2.0.1->torchvision) (2.0.0)\n",
            "Requirement already satisfied: cmake in /usr/local/lib/python3.10/dist-packages (from triton==2.0.0->torch==2.0.1->torchvision) (3.25.2)\n",
            "Requirement already satisfied: lit in /usr/local/lib/python3.10/dist-packages (from triton==2.0.0->torch==2.0.1->torchvision) (16.0.6)\n",
            "Requirement already satisfied: urllib3<1.27,>=1.21.1 in /usr/local/lib/python3.10/dist-packages (from requests->torchvision) (1.26.16)\n",
            "Requirement already satisfied: certifi>=2017.4.17 in /usr/local/lib/python3.10/dist-packages (from requests->torchvision) (2023.5.7)\n",
            "Requirement already satisfied: charset-normalizer~=2.0.0 in /usr/local/lib/python3.10/dist-packages (from requests->torchvision) (2.0.12)\n",
            "Requirement already satisfied: idna<4,>=2.5 in /usr/local/lib/python3.10/dist-packages (from requests->torchvision) (3.4)\n",
            "Requirement already satisfied: MarkupSafe>=2.0 in /usr/local/lib/python3.10/dist-packages (from jinja2->torch==2.0.1->torchvision) (2.1.3)\n",
            "Requirement already satisfied: mpmath>=0.19 in /usr/local/lib/python3.10/dist-packages (from sympy->torch==2.0.1->torchvision) (1.3.0)\n"
          ]
        }
      ],
      "source": [
        "!pip install torch\n",
        "!pip install torchvision"
      ]
    },
    {
      "cell_type": "code",
      "execution_count": null,
      "metadata": {
        "colab": {
          "background_save": true,
          "base_uri": "https://localhost:8080/"
        },
        "id": "nwWEp1Kkc2TU",
        "outputId": "c583b0f0-c552-455c-d778-aac73f876054"
      },
      "outputs": [
        {
          "name": "stdout",
          "output_type": "stream",
          "text": [
            "loading annotations into memory...\n",
            "Done (t=0.95s)\n",
            "creating index...\n",
            "index created!\n",
            "\n",
            ">>> Epoch #1\n",
            "Epoch 1/100 in Step 100/1800\n",
            "Total Loss: 1.2614, Step Loss: 1.5849\n",
            "Time Elapsed: 00H 02M 26.18S , Time Estimated: 00H 43M 51.30S, Time Remained: 00H 41M  25.12S\n",
            "\n",
            "Epoch 1/100 in Step 200/1800\n",
            "Total Loss: 1.3825, Step Loss: 1.5862\n",
            "Time Elapsed: 00H 04M 24.49S , Time Estimated: 00H 39M 40.42S, Time Remained: 00H 35M  15.93S\n",
            "\n",
            "Epoch 1/100 in Step 300/1800\n",
            "Total Loss: 1.5197, Step Loss: 1.6111\n",
            "Time Elapsed: 00H 06M 13.08S , Time Estimated: 00H 37M 18.46S, Time Remained: 00H 31M  5.39S\n",
            "\n",
            "Traceback (most recent call last):\n",
            "  File \"/content/gdrive/MyDrive/dab_project/main.py\", line 88, in <module>\n",
            "    main(args)\n",
            "  File \"/content/gdrive/MyDrive/dab_project/main.py\", line 72, in main\n",
            "    train_one_epoch(\n",
            "  File \"/content/gdrive/MyDrive/dab_project/dab/engine/trainer.py\", line 18, in train_one_epoch\n",
            "    samples = tuple(i.to(device) for i in samples)\n",
            "  File \"/content/gdrive/MyDrive/dab_project/dab/engine/trainer.py\", line 18, in <genexpr>\n",
            "    samples = tuple(i.to(device) for i in samples)\n",
            "KeyboardInterrupt\n",
            "^C\n"
          ]
        }
      ],
      "source": [
        "#################################################################################################################\n",
        "# 첫번째 줄이 main.py를 불러오는 건데'/content/gdrive/MyDrive/dab_project/main.py'에 해당 하는 부분을 너네 directory에 맞게 경로 수정하셈\n",
        "# output_dir 뒤에 있는 부분은 model weight를 저장하는 directory이기 때문에 너네가 원하는 directory로 바꾸면 돼\n",
        "# gpu ram이 부족하다고 뜨면 batch_size를 줄이면 됨\n",
        "# 그리고 한 epoch이 돌아갈 때마다 output_dir 경로 파일에 model weight가 '.pth' 파일 형태로 저장될 거야\n",
        "# 그래서 그 model weight로부터 다시 시작하고 싶을 때는\n",
        "# '--resume '그 pth 파일로의 경로'를 밑에 코드에 추가해서 실행시키면 돼\n",
        "# 안 그러면 아예 처음부터 다시 학습을 하게 됨 ㅋㅋㅋㅋ\n",
        "# 한 epoch 돌아가는데 40분 정도 걸리는 듯\n",
        "#################################################################################################################\n",
        "\n",
        "\n",
        "!python /content/gdrive/MyDrive/dab_project/main.py \\\n",
        "\t\t--run_name food_single_run_000001 \\\n",
        "\t\t--data_path /content/ \\\n",
        "\t\t--output_dir /content/gdrive/MyDrive/dab_project/checkpoints\\\n",
        "    --batch_size 50 \\\n"
      ]
    }
  ],
  "metadata": {
    "accelerator": "GPU",
    "colab": {
      "provenance": [],
      "authorship_tag": "ABX9TyPnoijY/hIxhDAWR8J4u/vT",
      "include_colab_link": true
    },
    "kernelspec": {
      "display_name": "Python 3",
      "name": "python3"
    },
    "language_info": {
      "name": "python"
    }
  },
  "nbformat": 4,
  "nbformat_minor": 0
}